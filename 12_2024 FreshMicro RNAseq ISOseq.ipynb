{
 "cells": [
  {
   "cell_type": "code",
   "execution_count": 1,
   "id": "1d8ca49f-5fe9-46ba-ab74-85bee701aca0",
   "metadata": {},
   "outputs": [],
   "source": [
    "import synapseclient\n",
    "from synapseclient import Project, File, Folder\n",
    "from synapseclient import Schema, Column, Table, Row, RowSet, as_table_columns\n",
    "import pandas as pd"
   ]
  },
  {
   "cell_type": "code",
   "execution_count": 2,
   "id": "f14fc55c-4973-4182-914d-c724419c8368",
   "metadata": {},
   "outputs": [
    {
     "name": "stdout",
     "output_type": "stream",
     "text": [
      "Welcome, Victor Baham!\n",
      "\n"
     ]
    }
   ],
   "source": [
    "syn = synapseclient.Synapse()\n",
    "syn.login(authToken=[redacted])"
   ]
  },
  {
   "cell_type": "markdown",
   "id": "f2632963-6b05-47fa-ba24-1d9fea0a280d",
   "metadata": {},
   "source": [
    "#### Query FreshMicro staging FileViews"
   ]
  },
  {
   "cell_type": "code",
   "execution_count": 3,
   "id": "6dce9c97-781d-40c2-bbc1-296bfbbfe130",
   "metadata": {},
   "outputs": [
    {
     "name": "stderr",
     "output_type": "stream",
     "text": [
      "Downloading files:   0%|          | 0.00/21.4k [00:00<?, ?B/s, syn64363483]"
     ]
    },
    {
     "name": "stdout",
     "output_type": "stream",
     "text": [
      "Downloaded syn64363483 to /home/jovyan/.synapseCache/105/150708105/SYNAPSE_TABLE_QUERY_150708105.csv\n"
     ]
    },
    {
     "name": "stderr",
     "output_type": "stream",
     "text": [
      "Downloading files: 100%|██████████| 21.4k/21.4k [00:00<00:00, 290kB/s, syn64363483]\n",
      "Downloading files:   0%|          | 0.00/80.5k [00:00<?, ?B/s, syn64367073]"
     ]
    },
    {
     "name": "stdout",
     "output_type": "stream",
     "text": [
      "Downloaded syn64367073 to /home/jovyan/.synapseCache/106/150708106/SYNAPSE_TABLE_QUERY_150708106.csv\n"
     ]
    },
    {
     "name": "stderr",
     "output_type": "stream",
     "text": [
      "Downloading files: 100%|██████████| 80.5k/80.5k [00:00<00:00, 1.28MB/s, syn64367073]\n",
      "Downloading files:   0%|          | 0.00/233k [00:00<?, ?B/s, syn64367074]"
     ]
    },
    {
     "name": "stdout",
     "output_type": "stream",
     "text": [
      "Downloaded syn64367074 to /home/jovyan/.synapseCache/108/150708108/SYNAPSE_TABLE_QUERY_150708108.csv\n"
     ]
    },
    {
     "name": "stderr",
     "output_type": "stream",
     "text": [
      "Downloading files: 100%|██████████| 233k/233k [00:00<00:00, 4.21MB/s, syn64367074]\n"
     ]
    }
   ],
   "source": [
    "fm_iso_query = syn.tableQuery(f\"SELECT * FROM {syn.get('syn64363483').id}\")\n",
    "fm_rna_query = syn.tableQuery(f\"SELECT * FROM {syn.get('syn64367073').id}\")\n",
    "fm_scrna_query = syn.tableQuery(f\"SELECT * FROM {syn.get('syn64367074').id}\")\n",
    "\n",
    "fm_iso = pd.read_csv(fm_iso_query.filepath)\n",
    "fm_rna = pd.read_csv(fm_rna_query.filepath)\n",
    "fm_scrna = pd.read_csv(fm_scrna_query.filepath)"
   ]
  },
  {
   "cell_type": "markdown",
   "id": "4868a439-2c05-4c7c-b4d6-47941c306eda",
   "metadata": {},
   "source": [
    "#### Get the columns we will need to keep from the joined DataFrames (the columns are the same in each one, so we can arbitrarily select one of them)"
   ]
  },
  {
   "cell_type": "code",
   "execution_count": 4,
   "id": "929abcb5-82c1-4b81-a7d5-f8480f17a52b",
   "metadata": {},
   "outputs": [
    {
     "data": {
      "text/plain": [
       "Index(['ROW_ID', 'ROW_VERSION', 'ROW_ETAG', 'id', 'name', 'sex', 'assay',\n",
       "       'grant', 'organ', 'study', 'tissue', 'runType', 'species', 'cellType',\n",
       "       'dataType', 'platform', 'consortium', 'fileFormat', 'readLength',\n",
       "       'specimenID', 'dataSubtype', 'libraryPrep', 'individualID',\n",
       "       'resourceType', 'isModelSystem', 'isMultiSpecimen',\n",
       "       'nucleicAcidSource'],\n",
       "      dtype='object')"
      ]
     },
     "execution_count": 4,
     "metadata": {},
     "output_type": "execute_result"
    }
   ],
   "source": [
    "fm_iso.columns"
   ]
  },
  {
   "cell_type": "markdown",
   "id": "dfee1799-710c-446b-aa99-004921dc94ba",
   "metadata": {},
   "source": [
    "#### Turn metadata files to DataFrames"
   ]
  },
  {
   "cell_type": "code",
   "execution_count": 5,
   "id": "a64b5258-c548-47e7-b433-a89643bd289d",
   "metadata": {},
   "outputs": [],
   "source": [
    "fm_indm = pd.read_csv(syn.get('syn64363368').path)\n",
    "fm_biom = pd.read_csv(syn.get('syn64364077').path)\n",
    "fm_rnam = pd.read_csv(syn.get('syn54090267').path)\n",
    "fm_scrnam = pd.read_csv(syn.get('syn64330569').path)\n",
    "fm_isom = pd.read_csv(syn.get('syn64367034').path)\n",
    "fm_mani = pd.read_csv(syn.get('syn64369817').path)"
   ]
  },
  {
   "cell_type": "markdown",
   "id": "6764b457-ab80-45a0-9fc0-11c13810b557",
   "metadata": {},
   "source": [
    "#### Map `synID` and `Filename` to `individualID` and `specimenID`"
   ]
  },
  {
   "cell_type": "code",
   "execution_count": 6,
   "id": "d81ddb50-7f34-4e9c-932a-b4b4274c01c6",
   "metadata": {},
   "outputs": [],
   "source": [
    "syn_to_ind = dict(zip(fm_mani['synID'], fm_mani['individualID']))\n",
    "syn_to_spec = dict(zip(fm_mani['synID'], fm_mani['specimenID']))\n",
    "\n",
    "file_to_ind = dict(zip(fm_mani['Filename'], fm_mani['individualID']))\n",
    "file_to_spec = dict(zip(fm_mani['Filename'], fm_mani['specimenID']))\n",
    "\n",
    "# also, specimenID to individualID\n",
    "spec_to_ind = dict(zip(fm_mani['specimenID'], fm_mani['individualID']))"
   ]
  },
  {
   "cell_type": "markdown",
   "id": "abecabdb-3a95-4c1b-934c-aa76d5b59aba",
   "metadata": {},
   "source": [
    "#### Fill in `specimenID` column for each df"
   ]
  },
  {
   "cell_type": "code",
   "execution_count": 7,
   "id": "dcc58428-49ad-4e0c-a84e-8aeffde5c62f",
   "metadata": {},
   "outputs": [],
   "source": [
    "fm_iso['specimenID'] = fm_iso['id'].map(syn_to_spec)\n",
    "fm_rna['specimenID'] = fm_rna['id'].map(syn_to_spec)\n",
    "fm_scrna['specimenID'] = fm_scrna['id'].map(syn_to_spec)"
   ]
  },
  {
   "cell_type": "markdown",
   "id": "8dca07e0-b178-403c-a531-171576398111",
   "metadata": {},
   "source": [
    "#### Fill in `individualID` column for each df"
   ]
  },
  {
   "cell_type": "code",
   "execution_count": 8,
   "id": "5065aef5-03ae-4f7b-a28b-724cc41f062a",
   "metadata": {},
   "outputs": [],
   "source": [
    "fm_iso['individualID'] = fm_iso['specimenID'].map(spec_to_ind)\n",
    "fm_rna['individualID'] = fm_rna['specimenID'].map(spec_to_ind)\n",
    "fm_scrna['individualID'] = fm_scrna['specimenID'].map(spec_to_ind)"
   ]
  },
  {
   "cell_type": "markdown",
   "id": "faa04951-f70c-4622-a06c-a141b1bba910",
   "metadata": {},
   "source": [
    "#### Match attributes to `individualID` and `specimenID` (these are independent of assay metadata)"
   ]
  },
  {
   "cell_type": "code",
   "execution_count": 9,
   "id": "3659d6c3-ba24-4269-a55b-8715546facb9",
   "metadata": {},
   "outputs": [],
   "source": [
    "ind_to_sex = dict(zip(fm_indm['individualID'], fm_indm['sex']))\n",
    "spec_to_assay = dict(zip(fm_biom['specimenID'], fm_biom['assay']))\n",
    "spec_to_tissue = dict(zip(fm_biom['specimenID'], fm_biom['tissue']))\n",
    "spec_to_celltype = dict(zip(fm_biom['specimenID'], fm_biom['cellType']))"
   ]
  },
  {
   "cell_type": "code",
   "execution_count": 10,
   "id": "ae710ed0-a772-4f07-bf40-47724ec6d164",
   "metadata": {},
   "outputs": [
    {
     "data": {
      "text/plain": [
       "Index(['ROW_ID', 'ROW_VERSION', 'ROW_ETAG', 'id', 'name', 'sex', 'assay',\n",
       "       'grant', 'organ', 'study', 'tissue', 'runType', 'species', 'cellType',\n",
       "       'dataType', 'platform', 'consortium', 'fileFormat', 'readLength',\n",
       "       'specimenID', 'dataSubtype', 'libraryPrep', 'individualID',\n",
       "       'resourceType', 'isModelSystem', 'isMultiSpecimen',\n",
       "       'nucleicAcidSource'],\n",
       "      dtype='object')"
      ]
     },
     "execution_count": 10,
     "metadata": {},
     "output_type": "execute_result"
    }
   ],
   "source": [
    "fm_iso.columns"
   ]
  },
  {
   "cell_type": "markdown",
   "id": "fd7b0945-de35-4a12-8c6d-6971b7cc2998",
   "metadata": {},
   "source": [
    "#### Fill in the rest of the columns in `fm_iso` (spontaneously create dicts here since they are assay specific and fill in values that are static)"
   ]
  },
  {
   "cell_type": "code",
   "execution_count": null,
   "id": "b03bbe1e-d419-4515-8fa2-6b9b0d17d45b",
   "metadata": {},
   "outputs": [],
   "source": [
    "fm_iso['sex'] = fm_iso['individualID'].map(ind_to_sex)\n",
    "fm_iso['assay'] = fm_iso['specimenID'].map(spec_to_assay)\n",
    "fm_iso['grant'] = 'R01AG065582'\n",
    "fm_iso['organ'] = 'brain'\n",
    "fm_iso['study'] = 'FreshMicro'\n",
    "fm_iso['tissue'] = fm_iso['specimenID'].map(spec_to_tissue)\n",
    "fm_iso['runType'] = fm_iso['specimenID'].map(dict(zip(fm_isom['specimenID'], fm_isom['runType'])))\n",
    "fm_iso['species'] = 'Human'\n",
    "fm_iso['cellType'] = fm_iso['specimenID'].map(spec_to_celltype)\n",
    "fm_iso['dataType'] = 'gene expression'\n",
    "fm_iso['platform'] = fm_iso['specimenID'].map(dict(zip(fm_isom['specimenID'], fm_isom['platform'])))\n",
    "fm_iso['consortium'] = 'AMP-AD'\n",
    "fm_iso['fileFormat'] = 'bam'\n",
    "fm_iso['readLength'] = fm_iso['specimenID'].map(dict(zip(fm_isom['specimenID'], fm_isom['readLength'])))\n",
    "fm_iso['dataSubtype'] = 'raw'\n",
    "fm_iso['libraryPrep'] = fm_iso['specimenID'].map(dict(zip(fm_isom['specimenID'], fm_isom['libraryPrep'])))\n",
    "fm_iso['resourceType'] = 'experimentalData'\n",
    "fm_iso['isModelSystem'] = False\n",
    "fm_iso['isMultiSpecimen'] = False\n",
    "fm_iso['nucleicAcidSource'] = fm_iso['specimenID'].map(dict(zip(fm_biom['specimenID'], fm_biom['nucleicAcidSource'])))"
   ]
  },
  {
   "cell_type": "markdown",
   "id": "1d5d94ff-9bc6-40df-afb2-bfa8e0a09d05",
   "metadata": {},
   "source": [
    "#### Store `fm_iso` to `syn64363483`"
   ]
  },
  {
   "cell_type": "code",
   "execution_count": null,
   "id": "f5f50931-89a3-4ee4-907f-2001142e7ac9",
   "metadata": {},
   "outputs": [],
   "source": [
    "#syn.store(Table('syn64363483', fm_iso))"
   ]
  },
  {
   "cell_type": "markdown",
   "id": "4ad775a6-f0ea-4b5f-a2f4-d2266ce365f8",
   "metadata": {},
   "source": [
    "#### Fill in the rest of the columns in `fm_rna` (spontaneously create dicts here since they are assay specific and fill in values that are static)"
   ]
  },
  {
   "cell_type": "code",
   "execution_count": 11,
   "id": "0ff2f1c3-20ce-4998-aca9-f24f0f791ae7",
   "metadata": {},
   "outputs": [],
   "source": [
    "fm_rna['sex'] = fm_rna['individualID'].map(ind_to_sex)\n",
    "fm_rna['assay'] = 'rnaSeq'\n",
    "fm_rna['grant'] = 'R01AG065582'\n",
    "fm_rna['organ'] = 'brain'\n",
    "fm_rna['study'] = 'FreshMicro'\n",
    "fm_rna['tissue'] = 'prefrontal cortex'\n",
    "fm_rna['runType'] = 'pairedEnd'\n",
    "fm_rna['species'] = 'Human'\n",
    "fm_rna['cellType'] = 'microglia'\n",
    "fm_rna['dataType'] = 'gene expression'\n",
    "fm_rna['platform'] = 'IlluminaNovaseq6000'\n",
    "fm_rna['consortium'] = 'AMP-AD'\n",
    "fm_rna['fileFormat'] = 'fastq'\n",
    "fm_rna['readLength'] = '10'\n",
    "fm_rna['dataSubtype'] = 'raw'\n",
    "fm_rna['libraryPrep'] = 'totalRNA'\n",
    "fm_rna['resourceType'] = 'experimentalData'\n",
    "fm_rna['isModelSystem'] = False\n",
    "fm_rna['isMultiSpecimen'] = False\n",
    "fm_rna['nucleicAcidSource'] = 'sorted cells'"
   ]
  },
  {
   "cell_type": "markdown",
   "id": "acace634-0b07-4662-a7f3-c0ea0b0eea3a",
   "metadata": {},
   "source": [
    "#### Store `fm_rna` to `syn64367073` (RUN THIS AGAIN THE MORNING OF 12/11/2024)"
   ]
  },
  {
   "cell_type": "code",
   "execution_count": 12,
   "id": "8d8c3083-bf5d-4ffc-88cd-148ee4098a0e",
   "metadata": {},
   "outputs": [
    {
     "name": "stderr",
     "output_type": "stream",
     "text": [
      "Uploading: 100%|██████████| 80.0k/80.0k [00:00<00:00, 298kB/s, table.csv]\n"
     ]
    },
    {
     "data": {
      "text/plain": [
       "<synapseclient.table.CsvFileTable at 0x7fae5d9501d0>"
      ]
     },
     "execution_count": 12,
     "metadata": {},
     "output_type": "execute_result"
    }
   ],
   "source": [
    "syn.store(Table('syn64367073', fm_rna))"
   ]
  },
  {
   "cell_type": "markdown",
   "id": "dcdd28e4-053e-4e96-a956-8c9127beeae8",
   "metadata": {},
   "source": [
    "#### Fill in the rest of the columns in `fm_scrna` (spontaneously create dicts here since they are assay specific and fill in values that are static)"
   ]
  },
  {
   "cell_type": "code",
   "execution_count": null,
   "id": "8da68229-08ae-4126-847f-80e0de3929f0",
   "metadata": {},
   "outputs": [],
   "source": [
    "fm_scrna['sex'] = fm_scrna['individualID'].map(ind_to_sex)\n",
    "fm_scrna['assay'] = 'scrnaSeq'\n",
    "fm_scrna['grant'] = 'R01AG065582'\n",
    "fm_scrna['organ'] = 'brain'\n",
    "fm_scrna['study'] = 'FreshMicro'\n",
    "fm_scrna['tissue'] = fm_scrna['specimenID'].map(spec_to_tissue)\n",
    "fm_scrna['runType'] = fm_scrna['specimenID'].map(dict(zip(fm_scrnam['specimenID'], fm_scrnam['runType'])))\n",
    "fm_scrna['species'] = 'Human'\n",
    "fm_scrna['cellType'] = fm_scrna['specimenID'].map(spec_to_celltype)\n",
    "fm_scrna['dataType'] = 'gene expression'\n",
    "fm_scrna['platform'] = fm_scrna['specimenID'].map(dict(zip(fm_scrnam['specimenID'], fm_scrnam['platform'])))\n",
    "fm_scrna['consortium'] = 'AMP-AD'\n",
    "fm_scrna['fileFormat'] = 'fastq'\n",
    "fm_scrna['readLength'] = '100'\n",
    "fm_scrna['dataSubtype'] = 'raw'\n",
    "fm_scrna['libraryPrep'] = fm_scrna['specimenID'].map(dict(zip(fm_scrnam['specimenID'], fm_scrnam['libraryPrep'])))\n",
    "fm_scrna['resourceType'] = 'experimentalData'\n",
    "fm_scrna['isModelSystem'] = False\n",
    "fm_scrna['isMultiSpecimen'] = False\n",
    "fm_scrna['nucleicAcidSource'] = 'single cell'"
   ]
  },
  {
   "cell_type": "markdown",
   "id": "450d6bc2-d343-4100-8fba-ef5d62d2ed34",
   "metadata": {},
   "source": [
    "#### Store `fm_scrna` to `syn64367074`"
   ]
  },
  {
   "cell_type": "code",
   "execution_count": null,
   "id": "0466088d-973a-4bfd-8660-4f1049a36527",
   "metadata": {},
   "outputs": [],
   "source": [
    "#syn.store(Table('syn64367074', fm_scrna))"
   ]
  }
 ],
 "metadata": {
  "kernelspec": {
   "display_name": "Python 3 (ipykernel)",
   "language": "python",
   "name": "python3"
  },
  "language_info": {
   "codemirror_mode": {
    "name": "ipython",
    "version": 3
   },
   "file_extension": ".py",
   "mimetype": "text/x-python",
   "name": "python",
   "nbconvert_exporter": "python",
   "pygments_lexer": "ipython3",
   "version": "3.11.10"
  }
 },
 "nbformat": 4,
 "nbformat_minor": 5
}
