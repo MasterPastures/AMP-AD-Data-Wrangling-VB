{
 "cells": [
  {
   "cell_type": "code",
   "execution_count": 1,
   "id": "1d8ca49f-5fe9-46ba-ab74-85bee701aca0",
   "metadata": {},
   "outputs": [],
   "source": [
    "import synapseclient\n",
    "from synapseclient import Project, File, Folder\n",
    "from synapseclient import Schema, Column, Table, Row, RowSet, as_table_columns\n",
    "import pandas as pd"
   ]
  },
  {
   "cell_type": "code",
   "execution_count": 2,
   "id": "f14fc55c-4973-4182-914d-c724419c8368",
   "metadata": {},
   "outputs": [
    {
     "name": "stdout",
     "output_type": "stream",
     "text": [
      "Welcome, Victor Baham!\n",
      "\n"
     ]
    }
   ],
   "source": [
    "syn = synapseclient.Synapse()\n",
    "syn.login(authToken=[redacted])"
   ]
  },
  {
   "cell_type": "markdown",
   "id": "f2632963-6b05-47fa-ba24-1d9fea0a280d",
   "metadata": {},
   "source": [
    "#### Query FreshMicro staging FileViews"
   ]
  },
  {
   "cell_type": "code",
   "execution_count": 17,
   "id": "6dce9c97-781d-40c2-bbc1-296bfbbfe130",
   "metadata": {},
   "outputs": [
    {
     "name": "stderr",
     "output_type": "stream",
     "text": [
      "Downloading files:   0%|          | 0.00/1.00 [00:00<?, ?B/s, syn64363483]"
     ]
    },
    {
     "name": "stdout",
     "output_type": "stream",
     "text": [
      "Downloaded syn64363483 to /home/jovyan/.synapseCache/68/150677068/SYNAPSE_TABLE_QUERY_150677068.csv\n"
     ]
    },
    {
     "name": "stderr",
     "output_type": "stream",
     "text": [
      "Downloading files: 100%|██████████| 7.20k/7.20k [00:00<00:00, 81.4kB/s, syn64363483]\n",
      "Downloading files:   0%|          | 0.00/1.00 [00:00<?, ?B/s, syn64367073]"
     ]
    },
    {
     "name": "stdout",
     "output_type": "stream",
     "text": [
      "Downloaded syn64367073 to /home/jovyan/.synapseCache/70/150677070/SYNAPSE_TABLE_QUERY_150677070.csv\n"
     ]
    },
    {
     "name": "stderr",
     "output_type": "stream",
     "text": [
      "Downloading files: 100%|██████████| 37.0k/37.0k [00:00<00:00, 617kB/s, syn64367073]\n",
      "Downloading files:   0%|          | 0.00/1.00 [00:00<?, ?B/s, syn64367074]"
     ]
    },
    {
     "name": "stdout",
     "output_type": "stream",
     "text": [
      "Downloaded syn64367074 to /home/jovyan/.synapseCache/72/150677072/SYNAPSE_TABLE_QUERY_150677072.csv\n"
     ]
    },
    {
     "name": "stderr",
     "output_type": "stream",
     "text": [
      "Downloading files: 100%|██████████| 81.5k/81.5k [00:00<00:00, 1.68MB/s, syn64367074]\n"
     ]
    }
   ],
   "source": [
    "fm_iso_query = syn.tableQuery(f\"SELECT * FROM {syn.get('syn64363483').id}\")\n",
    "fm_rna_query = syn.tableQuery(f\"SELECT * FROM {syn.get('syn64367073').id}\")\n",
    "fm_scrna_query = syn.tableQuery(f\"SELECT * FROM {syn.get('syn64367074').id}\")\n",
    "\n",
    "fm_iso = pd.read_csv(fm_iso_query.filepath)\n",
    "fm_rna = pd.read_csv(fm_rna_query.filepath)\n",
    "fm_scrna = pd.read_csv(fm_scrna_query.filepath)"
   ]
  },
  {
   "cell_type": "markdown",
   "id": "4868a439-2c05-4c7c-b4d6-47941c306eda",
   "metadata": {},
   "source": [
    "#### Get the columns we will need to keep from the joined DataFrames (the columns are the same in each one, so we can arbitrarily select one of them)"
   ]
  },
  {
   "cell_type": "code",
   "execution_count": 8,
   "id": "929abcb5-82c1-4b81-a7d5-f8480f17a52b",
   "metadata": {},
   "outputs": [
    {
     "data": {
      "text/plain": [
       "Index(['ROW_ID', 'ROW_VERSION', 'ROW_ETAG', 'id', 'name', 'sex', 'assay',\n",
       "       'grant', 'organ', 'study', 'tissue', 'runType', 'species', 'cellType',\n",
       "       'dataType', 'platform', 'consortium', 'fileFormat', 'readLength',\n",
       "       'specimenID', 'dataSubtype', 'libraryPrep', 'individualID',\n",
       "       'resourceType', 'isModelSystem', 'isMultiSpecimen',\n",
       "       'nucleicAcidSource'],\n",
       "      dtype='object')"
      ]
     },
     "execution_count": 8,
     "metadata": {},
     "output_type": "execute_result"
    }
   ],
   "source": [
    "fm_iso.columns"
   ]
  },
  {
   "cell_type": "markdown",
   "id": "fd516caa-4384-494c-bdcc-8c38fb2a538f",
   "metadata": {},
   "source": [
    "#### Map filename to `individualID` for ISOseq files"
   ]
  },
  {
   "cell_type": "markdown",
   "id": "4dcf05ca-deed-4668-a787-c86b44eddf4b",
   "metadata": {},
   "source": [
    "`individualID` in all cases ends in '_' + 3 digits, so this function can be reused"
   ]
  },
  {
   "cell_type": "code",
   "execution_count": 74,
   "id": "d81ddb50-7f34-4e9c-932a-b4b4274c01c6",
   "metadata": {},
   "outputs": [],
   "source": [
    "def dash_three(x):\n",
    "    dt_idx = x.index('_')\n",
    "    return x[0:dt_idx+4]\n",
    "\n",
    "iso_to_id = dict(zip(fm_iso['name'], fm_iso['name'].apply(dash_three)))"
   ]
  },
  {
   "cell_type": "markdown",
   "id": "cf5905b0-e722-4130-92c4-8504a78b7751",
   "metadata": {},
   "source": [
    "#### Map filename to `individualID` for RNAseq files"
   ]
  },
  {
   "cell_type": "code",
   "execution_count": 75,
   "id": "f2557a69-0889-4f69-b5a4-42bb3075e607",
   "metadata": {},
   "outputs": [],
   "source": [
    "rna_to_id = dict(zip(fm_rna['name'], fm_rna['name'].apply(dash_three)))"
   ]
  },
  {
   "cell_type": "markdown",
   "id": "beb14680-3d4f-4a1b-b0d4-abf4204d72dd",
   "metadata": {},
   "source": [
    "#### Map filename to `individualID` for scRNAseq files"
   ]
  },
  {
   "cell_type": "code",
   "execution_count": 76,
   "id": "0365b0e6-7b36-47c6-81fd-0093d41af618",
   "metadata": {},
   "outputs": [],
   "source": [
    "scrna_to_id = dict(zip(fm_scrna['name'], fm_scrna['name'].apply(dash_three)))"
   ]
  },
  {
   "cell_type": "markdown",
   "id": "dfee1799-710c-446b-aa99-004921dc94ba",
   "metadata": {},
   "source": [
    "#### Turn metadata files to DataFrames"
   ]
  },
  {
   "cell_type": "code",
   "execution_count": 150,
   "id": "a64b5258-c548-47e7-b433-a89643bd289d",
   "metadata": {},
   "outputs": [],
   "source": [
    "fm_indm = pd.read_csv(syn.get('syn64363368').path)\n",
    "fm_biom = pd.read_csv(syn.get('syn64364077').path)\n",
    "fm_rnam = pd.read_csv(syn.get('syn54090267').path)\n",
    "fm_scrnam = pd.read_csv(syn.get('syn64330569').path)\n",
    "fm_isom = pd.read_csv(syn.get('syn64367034').path)"
   ]
  },
  {
   "cell_type": "markdown",
   "id": "8dca07e0-b178-403c-a531-171576398111",
   "metadata": {},
   "source": [
    "#### Fill in `individualID` column for each df"
   ]
  },
  {
   "cell_type": "code",
   "execution_count": 83,
   "id": "5065aef5-03ae-4f7b-a28b-724cc41f062a",
   "metadata": {},
   "outputs": [],
   "source": [
    "fm_iso['individualID'] = fm_iso['name'].map(iso_to_id)\n",
    "fm_rna['individualID'] = fm_rna['name'].map(rna_to_id)\n",
    "fm_scrna['individualID'] = fm_scrna['name'].map(scrna_to_id)"
   ]
  },
  {
   "cell_type": "markdown",
   "id": "d83ca53d-575d-439c-bc69-a1429d1f58ed",
   "metadata": {},
   "source": [
    "#### **NOTE**: Not currently possible to proceed without mappings between filename and specimenID"
   ]
  },
  {
   "cell_type": "markdown",
   "id": "fd7b0945-de35-4a12-8c6d-6971b7cc2998",
   "metadata": {},
   "source": [
    "#### Fill in the rest of the columns in `fm_iso`"
   ]
  },
  {
   "cell_type": "code",
   "execution_count": null,
   "id": "b03bbe1e-d419-4515-8fa2-6b9b0d17d45b",
   "metadata": {},
   "outputs": [],
   "source": []
  },
  {
   "cell_type": "markdown",
   "id": "4ad775a6-f0ea-4b5f-a2f4-d2266ce365f8",
   "metadata": {},
   "source": [
    "#### Fill in the rest of the columns in `fm_rna`"
   ]
  },
  {
   "cell_type": "code",
   "execution_count": null,
   "id": "0ff2f1c3-20ce-4998-aca9-f24f0f791ae7",
   "metadata": {},
   "outputs": [],
   "source": []
  },
  {
   "cell_type": "markdown",
   "id": "dcdd28e4-053e-4e96-a956-8c9127beeae8",
   "metadata": {},
   "source": [
    "#### Fill in the rest of the columns in `fm_scrna`"
   ]
  },
  {
   "cell_type": "code",
   "execution_count": null,
   "id": "7224584d-8034-46dd-930b-f8c26ae2e666",
   "metadata": {},
   "outputs": [],
   "source": []
  }
 ],
 "metadata": {
  "kernelspec": {
   "display_name": "Python 3 (ipykernel)",
   "language": "python",
   "name": "python3"
  },
  "language_info": {
   "codemirror_mode": {
    "name": "ipython",
    "version": 3
   },
   "file_extension": ".py",
   "mimetype": "text/x-python",
   "name": "python",
   "nbconvert_exporter": "python",
   "pygments_lexer": "ipython3",
   "version": "3.11.10"
  }
 },
 "nbformat": 4,
 "nbformat_minor": 5
}
